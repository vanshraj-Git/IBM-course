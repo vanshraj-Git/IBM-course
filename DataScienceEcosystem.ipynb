{
 "cells": [
  {
   "cell_type": "markdown",
   "id": "cb726042-f669-4de6-abe6-66469172854f",
   "metadata": {},
   "source": [
    "# Data Science Tools and Ecosystem"
   ]
  },
  {
   "cell_type": "markdown",
   "id": "2a7419ca-e2f9-43fa-907a-1a4da8c215e5",
   "metadata": {},
   "source": [
    "In this notebook, Data Science Tools and Ecosystem are summarized.\n"
   ]
  },
  {
   "cell_type": "markdown",
   "id": "6f1294e7-4479-4f18-a526-1a499cc8521b",
   "metadata": {},
   "source": [
    "Some of the popular languages that Data Scientists use are:\n",
    "1.)Java\n",
    "2.)Python\n",
    "3.)C\n",
    "4.)Ruby"
   ]
  },
  {
   "cell_type": "markdown",
   "id": "e14a2954-5bcf-4c20-95ab-c7a4ae4cdfd0",
   "metadata": {},
   "source": [
    "Some of the commonly used libraries used by Data Scientists include:\n",
    "1.)Panda\n",
    "2.)Numpy\n",
    "3.)Pycharm\n",
    "4.)Matplotlib\n",
    "5.)OpenCV\n",
    "6.)Tensorflow"
   ]
  },
  {
   "cell_type": "markdown",
   "id": "fcf66d3b-a8c8-4703-85a2-a9a557407962",
   "metadata": {},
   "source": [
    "|Data Science Tools|\n",
    "|---|\n",
    "|Tensorflow|\n",
    "|Apache Hadoop|\n",
    "|SAS|"
   ]
  },
  {
   "cell_type": "markdown",
   "id": "1ff0d181-e845-458c-bcd7-84a1a096e2a7",
   "metadata": {},
   "source": [
    "###Below are a few examples of evaluating arithmetic expressions in Python"
   ]
  },
  {
   "cell_type": "code",
   "execution_count": 2,
   "id": "bf7a5252-168c-4152-86c6-661ef5687bec",
   "metadata": {},
   "outputs": [
    {
     "data": {
      "text/plain": [
       "17"
      ]
     },
     "execution_count": 2,
     "metadata": {},
     "output_type": "execute_result"
    }
   ],
   "source": [
    "#This a simple arithmetic expression to mutiply then add integers\n",
    "(3*4)+5"
   ]
  },
  {
   "cell_type": "code",
   "execution_count": 3,
   "id": "af3df917-cdac-4ebb-ac1a-864785a880ed",
   "metadata": {},
   "outputs": [
    {
     "data": {
      "text/plain": [
       "3.3333333333333335"
      ]
     },
     "execution_count": 3,
     "metadata": {},
     "output_type": "execute_result"
    }
   ],
   "source": [
    "#This will convert 200 minutes to hours by diving by 60\n",
    "200/60"
   ]
  },
  {
   "cell_type": "markdown",
   "id": "09fa5041-45a0-403b-bcff-a1f5a54e8ece",
   "metadata": {},
   "source": [
    "**Objectives:**"
   ]
  },
  {
   "cell_type": "markdown",
   "id": "2644ef20-770f-4a50-94d6-186dcb4c9fec",
   "metadata": {},
   "source": [
    "List popular languages for Data Science\n",
    "List popular libraries for Data Science\n",
    "List popular datasets for Data Science\n",
    "List popular NLP's for Data Science\n",
    "List popular shortcuts for Data Science"
   ]
  },
  {
   "cell_type": "markdown",
   "id": "6d1ce0b5-f6bb-4b9b-b1c9-404137ec0b28",
   "metadata": {},
   "source": [
    "##Author\n"
   ]
  },
  {
   "cell_type": "markdown",
   "id": "60353c4a-6949-48c6-b6d3-8bfc3619cf8d",
   "metadata": {},
   "source": [
    "Vanshraj Chauhan "
   ]
  },
  {
   "cell_type": "code",
   "execution_count": null,
   "id": "41314697-44cb-445b-9165-7ba392e64417",
   "metadata": {},
   "outputs": [],
   "source": []
  }
 ],
 "metadata": {
  "kernelspec": {
   "display_name": "Python 3 (ipykernel)",
   "language": "python",
   "name": "python3"
  },
  "language_info": {
   "codemirror_mode": {
    "name": "ipython",
    "version": 3
   },
   "file_extension": ".py",
   "mimetype": "text/x-python",
   "name": "python",
   "nbconvert_exporter": "python",
   "pygments_lexer": "ipython3",
   "version": "3.10.6"
  }
 },
 "nbformat": 4,
 "nbformat_minor": 5
}
